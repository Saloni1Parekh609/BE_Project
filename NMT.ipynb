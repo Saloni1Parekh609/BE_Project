{
  "nbformat": 4,
  "nbformat_minor": 0,
  "metadata": {
    "colab": {
      "name": "NMT.ipynb",
      "provenance": []
    },
    "kernelspec": {
      "name": "python3",
      "display_name": "Python 3"
    },
    "language_info": {
      "name": "python"
    },
    "accelerator": "GPU"
  },
  "cells": [
    {
      "cell_type": "code",
      "source": [
        "from google.colab import drive\n",
        "drive.mount('/content/drive')"
      ],
      "metadata": {
        "colab": {
          "base_uri": "https://localhost:8080/"
        },
        "id": "tI_POK3ZKr20",
        "outputId": "073f77bb-cf9a-4292-de88-ae270afcfb4e"
      },
      "execution_count": null,
      "outputs": [
        {
          "output_type": "stream",
          "name": "stdout",
          "text": [
            "Mounted at /content/drive\n"
          ]
        }
      ]
    },
    {
      "cell_type": "code",
      "execution_count": null,
      "metadata": {
        "id": "jUDYhhkREj5J",
        "colab": {
          "base_uri": "https://localhost:8080/"
        },
        "outputId": "f6c7fac4-09e2-4fe4-ba9a-89e91794c74d"
      },
      "outputs": [
        {
          "output_type": "stream",
          "name": "stdout",
          "text": [
            "Collecting tokenizers\n",
            "  Downloading tokenizers-0.11.5-cp37-cp37m-manylinux_2_12_x86_64.manylinux2010_x86_64.whl (6.8 MB)\n",
            "\u001b[K     |████████████████████████████████| 6.8 MB 5.3 MB/s \n",
            "\u001b[?25hInstalling collected packages: tokenizers\n",
            "Successfully installed tokenizers-0.11.5\n",
            "Collecting transformers\n",
            "  Downloading transformers-4.16.2-py3-none-any.whl (3.5 MB)\n",
            "\u001b[K     |████████████████████████████████| 3.5 MB 5.3 MB/s \n",
            "\u001b[?25hRequirement already satisfied: filelock in /usr/local/lib/python3.7/dist-packages (from transformers) (3.6.0)\n",
            "Requirement already satisfied: regex!=2019.12.17 in /usr/local/lib/python3.7/dist-packages (from transformers) (2019.12.20)\n",
            "Requirement already satisfied: requests in /usr/local/lib/python3.7/dist-packages (from transformers) (2.23.0)\n",
            "Requirement already satisfied: tqdm>=4.27 in /usr/local/lib/python3.7/dist-packages (from transformers) (4.62.3)\n",
            "Requirement already satisfied: packaging>=20.0 in /usr/local/lib/python3.7/dist-packages (from transformers) (21.3)\n",
            "Collecting pyyaml>=5.1\n",
            "  Downloading PyYAML-6.0-cp37-cp37m-manylinux_2_5_x86_64.manylinux1_x86_64.manylinux_2_12_x86_64.manylinux2010_x86_64.whl (596 kB)\n",
            "\u001b[K     |████████████████████████████████| 596 kB 49.4 MB/s \n",
            "\u001b[?25hRequirement already satisfied: tokenizers!=0.11.3,>=0.10.1 in /usr/local/lib/python3.7/dist-packages (from transformers) (0.11.5)\n",
            "Requirement already satisfied: numpy>=1.17 in /usr/local/lib/python3.7/dist-packages (from transformers) (1.21.5)\n",
            "Collecting huggingface-hub<1.0,>=0.1.0\n",
            "  Downloading huggingface_hub-0.4.0-py3-none-any.whl (67 kB)\n",
            "\u001b[K     |████████████████████████████████| 67 kB 6.0 MB/s \n",
            "\u001b[?25hRequirement already satisfied: importlib-metadata in /usr/local/lib/python3.7/dist-packages (from transformers) (4.11.1)\n",
            "Collecting sacremoses\n",
            "  Downloading sacremoses-0.0.47-py2.py3-none-any.whl (895 kB)\n",
            "\u001b[K     |████████████████████████████████| 895 kB 50.6 MB/s \n",
            "\u001b[?25hRequirement already satisfied: typing-extensions>=3.7.4.3 in /usr/local/lib/python3.7/dist-packages (from huggingface-hub<1.0,>=0.1.0->transformers) (3.10.0.2)\n",
            "Requirement already satisfied: pyparsing!=3.0.5,>=2.0.2 in /usr/local/lib/python3.7/dist-packages (from packaging>=20.0->transformers) (3.0.7)\n",
            "Requirement already satisfied: zipp>=0.5 in /usr/local/lib/python3.7/dist-packages (from importlib-metadata->transformers) (3.7.0)\n",
            "Requirement already satisfied: certifi>=2017.4.17 in /usr/local/lib/python3.7/dist-packages (from requests->transformers) (2021.10.8)\n",
            "Requirement already satisfied: urllib3!=1.25.0,!=1.25.1,<1.26,>=1.21.1 in /usr/local/lib/python3.7/dist-packages (from requests->transformers) (1.24.3)\n",
            "Requirement already satisfied: idna<3,>=2.5 in /usr/local/lib/python3.7/dist-packages (from requests->transformers) (2.10)\n",
            "Requirement already satisfied: chardet<4,>=3.0.2 in /usr/local/lib/python3.7/dist-packages (from requests->transformers) (3.0.4)\n",
            "Requirement already satisfied: joblib in /usr/local/lib/python3.7/dist-packages (from sacremoses->transformers) (1.1.0)\n",
            "Requirement already satisfied: click in /usr/local/lib/python3.7/dist-packages (from sacremoses->transformers) (7.1.2)\n",
            "Requirement already satisfied: six in /usr/local/lib/python3.7/dist-packages (from sacremoses->transformers) (1.15.0)\n",
            "Installing collected packages: pyyaml, sacremoses, huggingface-hub, transformers\n",
            "  Attempting uninstall: pyyaml\n",
            "    Found existing installation: PyYAML 3.13\n",
            "    Uninstalling PyYAML-3.13:\n",
            "      Successfully uninstalled PyYAML-3.13\n",
            "Successfully installed huggingface-hub-0.4.0 pyyaml-6.0 sacremoses-0.0.47 transformers-4.16.2\n"
          ]
        }
      ],
      "source": [
        "!pip install tokenizers\n",
        "!pip install transformers"
      ]
    },
    {
      "cell_type": "code",
      "source": [
        "from torch.utils.data import Dataset, DataLoader\n",
        "import pandas as pd\n",
        "import numpy as np\n",
        "import matplotlib.pyplot as plt\n",
        "import torch\n",
        "import torch.nn as nn"
      ],
      "metadata": {
        "id": "aWroR2afEx64"
      },
      "execution_count": null,
      "outputs": []
    },
    {
      "cell_type": "code",
      "source": [
        "df = pd.read_csv('/content/drive/MyDrive/BE Project/Datasets/dataframe.csv')\n",
        "df.drop(['Unnamed: 0'], axis = 1, inplace = True)\n",
        "df.head()"
      ],
      "metadata": {
        "colab": {
          "base_uri": "https://localhost:8080/",
          "height": 204
        },
        "id": "nQhi0sfgE3ra",
        "outputId": "c5a5a9b4-6e6b-4045-b663-d90811ea9a99"
      },
      "execution_count": null,
      "outputs": [
        {
          "output_type": "execute_result",
          "data": {
            "text/html": [
              "\n",
              "  <div id=\"df-9d2e8c37-a184-48be-8132-39b8fb26575d\">\n",
              "    <div class=\"colab-df-container\">\n",
              "      <div>\n",
              "<style scoped>\n",
              "    .dataframe tbody tr th:only-of-type {\n",
              "        vertical-align: middle;\n",
              "    }\n",
              "\n",
              "    .dataframe tbody tr th {\n",
              "        vertical-align: top;\n",
              "    }\n",
              "\n",
              "    .dataframe thead th {\n",
              "        text-align: right;\n",
              "    }\n",
              "</style>\n",
              "<table border=\"1\" class=\"dataframe\">\n",
              "  <thead>\n",
              "    <tr style=\"text-align: right;\">\n",
              "      <th></th>\n",
              "      <th>english</th>\n",
              "      <th>cypher</th>\n",
              "    </tr>\n",
              "  </thead>\n",
              "  <tbody>\n",
              "    <tr>\n",
              "      <th>0</th>\n",
              "      <td>How clean is Spoon Street?</td>\n",
              "      <td>MATCH (var1) WHERE var1.name=\"Spoon Street\"  W...</td>\n",
              "    </tr>\n",
              "    <tr>\n",
              "      <th>1</th>\n",
              "      <td>How big is Snesk Upon Thames?</td>\n",
              "      <td>MATCH (var1) WHERE var1.name=\"Snesk Upon Thame...</td>\n",
              "    </tr>\n",
              "    <tr>\n",
              "      <th>2</th>\n",
              "      <td>What music plays at Leng Crossing?</td>\n",
              "      <td>MATCH (var1) WHERE var1.name=\"Leng Crossing\"  ...</td>\n",
              "    </tr>\n",
              "    <tr>\n",
              "      <th>3</th>\n",
              "      <td>What architectural style is Juw Lane?</td>\n",
              "      <td>MATCH (var1) WHERE var1.name=\"Juw Lane\"  WITH ...</td>\n",
              "    </tr>\n",
              "    <tr>\n",
              "      <th>4</th>\n",
              "      <td>Does Sigington have disabled access?</td>\n",
              "      <td>MATCH (var1) WHERE var1.name=\"Sigington\"  WITH...</td>\n",
              "    </tr>\n",
              "  </tbody>\n",
              "</table>\n",
              "</div>\n",
              "      <button class=\"colab-df-convert\" onclick=\"convertToInteractive('df-9d2e8c37-a184-48be-8132-39b8fb26575d')\"\n",
              "              title=\"Convert this dataframe to an interactive table.\"\n",
              "              style=\"display:none;\">\n",
              "        \n",
              "  <svg xmlns=\"http://www.w3.org/2000/svg\" height=\"24px\"viewBox=\"0 0 24 24\"\n",
              "       width=\"24px\">\n",
              "    <path d=\"M0 0h24v24H0V0z\" fill=\"none\"/>\n",
              "    <path d=\"M18.56 5.44l.94 2.06.94-2.06 2.06-.94-2.06-.94-.94-2.06-.94 2.06-2.06.94zm-11 1L8.5 8.5l.94-2.06 2.06-.94-2.06-.94L8.5 2.5l-.94 2.06-2.06.94zm10 10l.94 2.06.94-2.06 2.06-.94-2.06-.94-.94-2.06-.94 2.06-2.06.94z\"/><path d=\"M17.41 7.96l-1.37-1.37c-.4-.4-.92-.59-1.43-.59-.52 0-1.04.2-1.43.59L10.3 9.45l-7.72 7.72c-.78.78-.78 2.05 0 2.83L4 21.41c.39.39.9.59 1.41.59.51 0 1.02-.2 1.41-.59l7.78-7.78 2.81-2.81c.8-.78.8-2.07 0-2.86zM5.41 20L4 18.59l7.72-7.72 1.47 1.35L5.41 20z\"/>\n",
              "  </svg>\n",
              "      </button>\n",
              "      \n",
              "  <style>\n",
              "    .colab-df-container {\n",
              "      display:flex;\n",
              "      flex-wrap:wrap;\n",
              "      gap: 12px;\n",
              "    }\n",
              "\n",
              "    .colab-df-convert {\n",
              "      background-color: #E8F0FE;\n",
              "      border: none;\n",
              "      border-radius: 50%;\n",
              "      cursor: pointer;\n",
              "      display: none;\n",
              "      fill: #1967D2;\n",
              "      height: 32px;\n",
              "      padding: 0 0 0 0;\n",
              "      width: 32px;\n",
              "    }\n",
              "\n",
              "    .colab-df-convert:hover {\n",
              "      background-color: #E2EBFA;\n",
              "      box-shadow: 0px 1px 2px rgba(60, 64, 67, 0.3), 0px 1px 3px 1px rgba(60, 64, 67, 0.15);\n",
              "      fill: #174EA6;\n",
              "    }\n",
              "\n",
              "    [theme=dark] .colab-df-convert {\n",
              "      background-color: #3B4455;\n",
              "      fill: #D2E3FC;\n",
              "    }\n",
              "\n",
              "    [theme=dark] .colab-df-convert:hover {\n",
              "      background-color: #434B5C;\n",
              "      box-shadow: 0px 1px 3px 1px rgba(0, 0, 0, 0.15);\n",
              "      filter: drop-shadow(0px 1px 2px rgba(0, 0, 0, 0.3));\n",
              "      fill: #FFFFFF;\n",
              "    }\n",
              "  </style>\n",
              "\n",
              "      <script>\n",
              "        const buttonEl =\n",
              "          document.querySelector('#df-9d2e8c37-a184-48be-8132-39b8fb26575d button.colab-df-convert');\n",
              "        buttonEl.style.display =\n",
              "          google.colab.kernel.accessAllowed ? 'block' : 'none';\n",
              "\n",
              "        async function convertToInteractive(key) {\n",
              "          const element = document.querySelector('#df-9d2e8c37-a184-48be-8132-39b8fb26575d');\n",
              "          const dataTable =\n",
              "            await google.colab.kernel.invokeFunction('convertToInteractive',\n",
              "                                                     [key], {});\n",
              "          if (!dataTable) return;\n",
              "\n",
              "          const docLinkHtml = 'Like what you see? Visit the ' +\n",
              "            '<a target=\"_blank\" href=https://colab.research.google.com/notebooks/data_table.ipynb>data table notebook</a>'\n",
              "            + ' to learn more about interactive tables.';\n",
              "          element.innerHTML = '';\n",
              "          dataTable['output_type'] = 'display_data';\n",
              "          await google.colab.output.renderOutput(dataTable, element);\n",
              "          const docLink = document.createElement('div');\n",
              "          docLink.innerHTML = docLinkHtml;\n",
              "          element.appendChild(docLink);\n",
              "        }\n",
              "      </script>\n",
              "    </div>\n",
              "  </div>\n",
              "  "
            ],
            "text/plain": [
              "                                 english                                             cypher\n",
              "0             How clean is Spoon Street?  MATCH (var1) WHERE var1.name=\"Spoon Street\"  W...\n",
              "1          How big is Snesk Upon Thames?  MATCH (var1) WHERE var1.name=\"Snesk Upon Thame...\n",
              "2     What music plays at Leng Crossing?  MATCH (var1) WHERE var1.name=\"Leng Crossing\"  ...\n",
              "3  What architectural style is Juw Lane?  MATCH (var1) WHERE var1.name=\"Juw Lane\"  WITH ...\n",
              "4   Does Sigington have disabled access?  MATCH (var1) WHERE var1.name=\"Sigington\"  WITH..."
            ]
          },
          "metadata": {},
          "execution_count": 4
        }
      ]
    },
    {
      "cell_type": "code",
      "source": [
        "#df = df.iloc[:20000,:]\n",
        "#df.shape"
      ],
      "metadata": {
        "colab": {
          "base_uri": "https://localhost:8080/"
        },
        "id": "0PjIzj8-vuD_",
        "outputId": "88d75093-2982-43ee-9702-09db27e677c8"
      },
      "execution_count": null,
      "outputs": [
        {
          "output_type": "execute_result",
          "data": {
            "text/plain": [
              "(20000, 2)"
            ]
          },
          "metadata": {},
          "execution_count": 5
        }
      ]
    },
    {
      "cell_type": "code",
      "source": [
        "df_train, df_val, df_test = np.split(df.sample(frac=1, random_state=42), [int(.9*len(df)), int(.95*len(df))])\n",
        "print(df_train.shape)\n",
        "print(df_val.shape)\n",
        "print(df_test.shape)"
      ],
      "metadata": {
        "colab": {
          "base_uri": "https://localhost:8080/"
        },
        "id": "xrfu1HD5RBpC",
        "outputId": "e4c3ffbf-bf1c-4b0d-cdb8-5e0907997bc0"
      },
      "execution_count": null,
      "outputs": [
        {
          "output_type": "stream",
          "name": "stdout",
          "text": [
            "(18000, 2)\n",
            "(1000, 2)\n",
            "(1000, 2)\n"
          ]
        }
      ]
    },
    {
      "cell_type": "code",
      "source": [
        "words_cypher = []\n",
        "words_english = []\n",
        "\n",
        "for i in range(df.shape[0]):\n",
        "  words_cypher.append(len(df.iloc[i,1].split()))\n",
        "  words_english.append(len(df.iloc[i,0].split()))\n",
        "\n",
        "print(\"Max in cypher: \", max(words_cypher))\n",
        "print(\"Max in english: \", max(words_english))"
      ],
      "metadata": {
        "colab": {
          "base_uri": "https://localhost:8080/"
        },
        "id": "84dZ8TWcRfIm",
        "outputId": "f19f1618-8e89-4b52-8a6d-caaffb3af088"
      },
      "execution_count": null,
      "outputs": [
        {
          "output_type": "stream",
          "name": "stdout",
          "text": [
            "Max in cypher:  75\n",
            "Max in english:  12\n"
          ]
        }
      ]
    },
    {
      "cell_type": "code",
      "source": [
        "from tokenizers import Tokenizer\n",
        "\n",
        "cypher_tokenizer = Tokenizer.from_file(\"/content/drive/MyDrive/BE Project/Datasets/tokenizer_cypher.json\")\n",
        "\n",
        "encoded = cypher_tokenizer.encode('MATCH (var1) WHERE var1.name=\"Spoon Street\"  WITH 1 AS foo, var1.cleanliness AS var2 RETURN var2 [UNK]>')\n",
        "cypher_tokenizer.decode(encoded.ids)"
      ],
      "metadata": {
        "colab": {
          "base_uri": "https://localhost:8080/",
          "height": 37
        },
        "id": "VnrzIOmsE5tI",
        "outputId": "3f734637-f9de-468b-f8e6-57c33cfd1c89"
      },
      "execution_count": null,
      "outputs": [
        {
          "output_type": "execute_result",
          "data": {
            "application/vnd.google.colaboratory.intrinsic+json": {
              "type": "string"
            },
            "text/plain": [
              "'MATCH ( var1 ) WHERE var1 . name =\" Spoon Street \" WITH 1 AS foo , var1 . cleanliness AS var2 RETURN var2 >'"
            ]
          },
          "metadata": {},
          "execution_count": 8
        }
      ]
    },
    {
      "cell_type": "code",
      "source": [
        "cypher_tokenizer.enable_padding(pad_id=3, length=128)\n",
        "cypher_tokenizer.enable_truncation(max_length=128)"
      ],
      "metadata": {
        "id": "rMuHJKbkGZUm"
      },
      "execution_count": null,
      "outputs": []
    },
    {
      "cell_type": "code",
      "source": [
        "english_tokenizer = Tokenizer.from_file(\"/content/drive/MyDrive/BE Project/Datasets/tokenizer_english.json\")\n",
        "\n",
        "encoded = english_tokenizer.encode('[BOS]' + df.iloc[0, 0] + '[EOS]')\n",
        "english_tokenizer.decode(encoded.ids)"
      ],
      "metadata": {
        "colab": {
          "base_uri": "https://localhost:8080/",
          "height": 37
        },
        "id": "AZtS9xFxW6Nt",
        "outputId": "6eb077ec-f70f-408c-e32d-e140c841a62f"
      },
      "execution_count": null,
      "outputs": [
        {
          "output_type": "execute_result",
          "data": {
            "application/vnd.google.colaboratory.intrinsic+json": {
              "type": "string"
            },
            "text/plain": [
              "'How clean is Spoon Street ?'"
            ]
          },
          "metadata": {},
          "execution_count": 10
        }
      ]
    },
    {
      "cell_type": "code",
      "source": [
        "english_tokenizer.enable_padding(pad_id=3, length=128)\n",
        "english_tokenizer.enable_truncation(max_length=128)"
      ],
      "metadata": {
        "id": "7x7l4sELXSVT"
      },
      "execution_count": null,
      "outputs": []
    },
    {
      "cell_type": "code",
      "source": [
        "cypher_tokenizer.get_vocab_size()"
      ],
      "metadata": {
        "colab": {
          "base_uri": "https://localhost:8080/"
        },
        "id": "fNqBBWteq0p6",
        "outputId": "5824debc-fa5b-4b62-d07a-96dd74a4bca0"
      },
      "execution_count": null,
      "outputs": [
        {
          "output_type": "execute_result",
          "data": {
            "text/plain": [
              "19280"
            ]
          },
          "metadata": {},
          "execution_count": 12
        }
      ]
    },
    {
      "cell_type": "code",
      "source": [
        "device = torch.device('cuda' if torch.cuda.is_available() else 'cpu')"
      ],
      "metadata": {
        "id": "haW7bW8SKmeN"
      },
      "execution_count": null,
      "outputs": []
    },
    {
      "cell_type": "code",
      "source": [
        "class NMTDataset(Dataset):\n",
        "  def __init__(self, dataframe, english_tokenizer, cypher_tokenizer):\n",
        "    self.dataframe = dataframe\n",
        "    self.english_tokenizer = english_tokenizer\n",
        "    self.cypher_tokenizer = cypher_tokenizer\n",
        "\n",
        "  def __len__(self):\n",
        "    return len(self.dataframe)\n",
        "\n",
        "  def generate_square_subsequent_mask(self, sz):\n",
        "    mask = (torch.triu(torch.ones((sz, sz))) == 1).transpose(0, 1)\n",
        "    mask = mask.float().masked_fill(mask == 0, float('-inf')).masked_fill(mask == 1, float(0.0))\n",
        "    return mask.to(device)\n",
        "\n",
        "  def __getitem__(self, idx):\n",
        "    self.src = self.dataframe.iloc[idx, 0]\n",
        "    self.tgt = self.dataframe.iloc[idx, 1]\n",
        "\n",
        "    self.encoded_eng = self.english_tokenizer.encode('[BOS]' + self.src + '[EOS]')\n",
        "      \n",
        "    self.encoded_cyp = self.cypher_tokenizer.encode('[BOS]' + self.tgt + '[EOS]')\n",
        "\n",
        "    return torch.squeeze(torch.Tensor(self.encoded_eng.ids)).to(device), torch.squeeze(torch.Tensor(self.encoded_eng.attention_mask)).to(device), torch.squeeze(torch.Tensor(self.encoded_cyp.ids)).to(device), torch.squeeze(torch.Tensor(self.encoded_cyp.attention_mask)).to(device) #, self.mask_cyp"
      ],
      "metadata": {
        "id": "BYMAqZD0Fj2l"
      },
      "execution_count": null,
      "outputs": []
    },
    {
      "cell_type": "code",
      "source": [
        "train_dataset = NMTDataset(df_train, english_tokenizer, cypher_tokenizer)\n",
        "trainLoader = torch.utils.data.DataLoader(train_dataset, batch_size=8)\n",
        "\n",
        "val_dataset = NMTDataset(df_val, english_tokenizer, cypher_tokenizer)\n",
        "valLoader = torch.utils.data.DataLoader(val_dataset, batch_size=8)\n",
        "\n",
        "test_dataset = NMTDataset(df_test, english_tokenizer, cypher_tokenizer)\n",
        "testLoader = torch.utils.data.DataLoader(test_dataset, batch_size=8)"
      ],
      "metadata": {
        "id": "nHaNCRU1Z3n7"
      },
      "execution_count": null,
      "outputs": []
    },
    {
      "cell_type": "code",
      "source": [
        "x = NMTDataset(df, english_tokenizer, cypher_tokenizer)\n",
        "trainLoader=torch.utils.data.DataLoader(x, batch_size=8)"
      ],
      "metadata": {
        "id": "BtqG_DWuF9Od"
      },
      "execution_count": null,
      "outputs": []
    },
    {
      "cell_type": "code",
      "source": [
        "train_iter = iter(trainLoader)\n",
        "a, b, c, d = train_iter.next()"
      ],
      "metadata": {
        "id": "XuqEYK3xKUCa"
      },
      "execution_count": null,
      "outputs": []
    },
    {
      "cell_type": "code",
      "source": [
        "print(a.shape)\n",
        "print(b.shape)\n",
        "print(c.shape)\n",
        "print(d.shape)\n"
      ],
      "metadata": {
        "colab": {
          "base_uri": "https://localhost:8080/"
        },
        "id": "jqJH8Cfwr-jU",
        "outputId": "28dd941d-abc6-422d-badd-05b867f88cde"
      },
      "execution_count": null,
      "outputs": [
        {
          "output_type": "stream",
          "name": "stdout",
          "text": [
            "torch.Size([8, 128])\n",
            "torch.Size([8, 128])\n",
            "torch.Size([8, 128])\n",
            "torch.Size([8, 128])\n"
          ]
        }
      ]
    },
    {
      "cell_type": "code",
      "source": [
        "from torch.autograd import Variable\n",
        "import math\n",
        "\n",
        "class PositionalEncoder(nn.Module):\n",
        "    def __init__(self, d_model, max_seq_len = 80):\n",
        "        super().__init__()\n",
        "        self.d_model = d_model\n",
        "        \n",
        "        # create constant 'pe' matrix with values dependant on \n",
        "        # pos and i\n",
        "        pe = torch.zeros(max_seq_len, d_model)\n",
        "        for pos in range(max_seq_len):\n",
        "            for i in range(0, d_model, 2):\n",
        "                pe[pos, i] = \\\n",
        "                math.sin(pos / (10000 ** ((2 * i)/d_model)))\n",
        "                pe[pos, i + 1] = \\\n",
        "                math.cos(pos / (10000 ** ((2 * (i + 1))/d_model)))\n",
        "                \n",
        "        pe = pe.unsqueeze(0)\n",
        "        self.register_buffer('pe', pe)\n",
        " \n",
        "    \n",
        "    def forward(self, x):\n",
        "        # make embeddings relatively larger\n",
        "        #print(f\"In encoder: {x.shape}\")\n",
        "        x = x * math.sqrt(self.d_model)\n",
        "        #add constant to embedding\n",
        "        seq_len = x.size(1)\n",
        "        x = x + Variable(self.pe[:,:seq_len], \\\n",
        "        requires_grad=False).cuda()\n",
        "        return x"
      ],
      "metadata": {
        "id": "BX9H8r9YSckb"
      },
      "execution_count": null,
      "outputs": []
    },
    {
      "cell_type": "code",
      "source": [
        "def flipTensor(b):\n",
        "  zero_indices = b == 0\n",
        "  non_zero_indices = b != 0\n",
        "  b[non_zero_indices] = -1\n",
        "  b[zero_indices] = 1\n",
        "  b[non_zero_indices] = 0\n",
        "\n",
        "  return b"
      ],
      "metadata": {
        "id": "a4wCyKxdre7Q"
      },
      "execution_count": null,
      "outputs": []
    },
    {
      "cell_type": "code",
      "source": [
        "class NMTModel(nn.Module):\n",
        "  def __init__(self, embedding_size, src_vocab_size, tgt_vocab_size, num_heads, num_encoder_layers, num_decoder_layers, dropout, max_len_eng, max_len_cyp, device):\n",
        "    \n",
        "    super(NMTModel, self).__init__()\n",
        "    self.src_embedding = nn.Embedding(src_vocab_size, embedding_size)\n",
        "    self.tgt_embedding = nn.Embedding(tgt_vocab_size, embedding_size)\n",
        "\n",
        "    self.src_pos_encoding = PositionalEncoder(embedding_size, max_len_eng)\n",
        "    self.tgt_pos_encoding = PositionalEncoder(embedding_size, max_len_cyp)\n",
        "\n",
        "    self.device = device\n",
        "    self.transformer = nn.Transformer(d_model = embedding_size, nhead = num_heads, num_encoder_layers = num_encoder_layers, num_decoder_layers = num_decoder_layers, dropout = dropout)\n",
        "\n",
        "    self.fc = nn.Linear(embedding_size, tgt_vocab_size)\n",
        "    self.dropout = dropout\n",
        "\n",
        "  def generate_square_subsequent_mask(self, sz):\n",
        "    mask = (torch.triu(torch.ones((sz, sz))) == 1).transpose(0, 1)\n",
        "    mask = mask.float().masked_fill(mask == 0, float('-inf')).masked_fill(mask == 1, float(0.0))\n",
        "    return mask.to(device)\n",
        "\n",
        "  def forward(self, eng_input_ids, eng_attention_mask, cyp_input_ids, cyp_attention_mask):\n",
        "    \n",
        "    decoder_mask = self.mask_cyp = self.generate_square_subsequent_mask(128)\n",
        "\n",
        "    src_emb = self.src_pos_encoding(self.src_embedding(eng_input_ids))\n",
        "    tgt_emb = self.tgt_pos_encoding(self.tgt_embedding(cyp_input_ids))\n",
        "\n",
        "    src_emb = torch.transpose(src_emb, 1, 0)\n",
        "    tgt_emb = torch.transpose(tgt_emb, 1, 0)\n",
        "\n",
        "    src_mask = torch.zeros((128, 128),device=device).type(torch.bool)\n",
        "\n",
        "    eng_attention_mask = flipTensor(eng_attention_mask)\n",
        "    cyp_attention_mask = flipTensor(cyp_attention_mask)\n",
        "\n",
        "    out = self.transformer(src = src_emb, tgt = tgt_emb, src_mask = None, tgt_mask = decoder_mask, src_key_padding_mask = eng_attention_mask, tgt_key_padding_mask = cyp_attention_mask)\n",
        "\n",
        "    return self.fc(out)"
      ],
      "metadata": {
        "id": "U8n9oX1XYLTp"
      },
      "execution_count": null,
      "outputs": []
    },
    {
      "cell_type": "code",
      "source": [
        "embedding_size = 256 \n",
        "src_vocab_size = english_tokenizer.get_vocab_size() \n",
        "tgt_vocab_size = cypher_tokenizer.get_vocab_size() \n",
        "num_heads = 8 \n",
        "num_encoder_layers = 8 \n",
        "num_decoder_layers = 8 \n",
        "dropout = 0.2 \n",
        "max_len_eng = 128 \n",
        "max_len_cyp = 128 \n",
        "PAD_IDX = 3\n",
        "\n",
        "model = NMTModel(embedding_size, src_vocab_size, tgt_vocab_size, num_heads, num_encoder_layers, num_decoder_layers, dropout, max_len_eng, max_len_cyp, device)\n",
        "\n",
        "for p in model.parameters():\n",
        "    if p.dim() > 1:\n",
        "        nn.init.xavier_uniform_(p)\n",
        "\n",
        "model = model.to(device)\n",
        "\n",
        "loss_fn = torch.nn.CrossEntropyLoss(ignore_index=PAD_IDX)\n",
        "\n",
        "optimizer = torch.optim.Adam(model.parameters(), lr=0.000001)"
      ],
      "metadata": {
        "id": "wA8dgp1VWLm9"
      },
      "execution_count": null,
      "outputs": []
    },
    {
      "cell_type": "code",
      "source": [
        "from nltk.translate.bleu_score import sentence_bleu\n",
        "\n",
        "def bleu_score(logits, cyp_input_ids):\n",
        "  y_trans = torch.transpose(logits, 0, 1)\n",
        "  predict = torch.argmax(y_trans, dim = 2)\n",
        "  true_cypher = []\n",
        "  predicted_cypher = []\n",
        "  bleu_sc = 0\n",
        "\n",
        "  for i in range(y_trans.shape[0]):\n",
        "    #true_cypher.append(cypher_tokenizer.decode(cyp_input_ids[i].tolist()))\n",
        "    #predicted_cypher.append(cypher_tokenizer.decode(predict[i].tolist()))\n",
        "    bleu_sc = bleu_sc + sentence_bleu([cypher_tokenizer.decode(cyp_input_ids[i].int().tolist())], cypher_tokenizer.decode(predict[i].int().tolist()))\n",
        "\n",
        "  return bleu_sc/y_trans.shape[0]"
      ],
      "metadata": {
        "id": "gJLjQ9VSzR9g"
      },
      "execution_count": null,
      "outputs": []
    },
    {
      "cell_type": "code",
      "source": [
        "def train_model(model, epochs):\n",
        "\n",
        "  trainLosses=[]\n",
        "  validLosses=[]\n",
        "  avgTrainLoss=[]\n",
        "  avgValidLoss=[]\n",
        "\n",
        "  for i in range(epochs):\n",
        "    print(\"Epoch: \", i)\n",
        "\n",
        "    train_loss = 0\n",
        "    val_loss = 0\n",
        "    \n",
        "    model.train()\n",
        "\n",
        "    for batch_idx, (eng_input_ids, eng_attention_mask, cyp_input_ids, cyp_attention_mask) in enumerate(trainLoader):\n",
        "      \n",
        "      if batch_idx % 200 == 0:\n",
        "        print(batch_idx)\n",
        "\n",
        "      eng_input_ids = eng_input_ids.to(device)\n",
        "      eng_attention_mask = eng_attention_mask.to(device, dtype=torch.bool)\n",
        "      cyp_input_ids = cyp_input_ids.to(device)\n",
        "      cyp_attention_mask = cyp_attention_mask.to(device, dtype=torch.bool)\n",
        "\n",
        "      optimizer.zero_grad()\n",
        "\n",
        "      logits = model(eng_input_ids.long(), eng_attention_mask, cyp_input_ids.long(), cyp_attention_mask)\n",
        "\n",
        "      #print(logits)\n",
        "\n",
        "      loss = loss_fn(logits.reshape(-1, logits.shape[-1]), cyp_input_ids.reshape(-1).long())\n",
        "      loss.backward()\n",
        "\n",
        "      train_loss = train_loss + loss\n",
        "\n",
        "      torch.nn.utils.clip_grad_norm_(model.parameters(), max_norm=1)\n",
        "\n",
        "      optimizer.step()\n",
        "\n",
        "    trainLosses.append(train_loss/len(trainLoader))\n",
        "\n",
        "    print(\"Validating...\")\n",
        "    model.eval()\n",
        "    with torch.no_grad():\n",
        "      bleu_sc = 0\n",
        "\n",
        "      for batch_idx, (eng_input_ids, eng_attention_mask, cyp_input_ids, cyp_attention_mask) in enumerate(valLoader):\n",
        "\n",
        "        eng_input_ids = eng_input_ids.to(device)\n",
        "        eng_attention_mask = eng_attention_mask.to(device, dtype=torch.bool)\n",
        "        cyp_input_ids = cyp_input_ids.to(device)\n",
        "        cyp_attention_mask = cyp_attention_mask.to(device, dtype=torch.bool)\n",
        "\n",
        "        logits = model(eng_input_ids.long(), eng_attention_mask, cyp_input_ids.long(), cyp_attention_mask)\n",
        "\n",
        "        bleu_sc = bleu_sc + bleu_score(logits, cyp_input_ids)\n",
        "\n",
        "        loss = loss_fn(logits.reshape(-1, logits.shape[-1]), cyp_input_ids.reshape(-1).long())\n",
        "        val_loss = val_loss + loss\n",
        "\n",
        "      validLosses.append(val_loss/len(valLoader))\n",
        "\n",
        "    print(\"Epoch: \", i, \" Training Loss: \", (train_loss/len(trainLoader)), \" Val Loss: \", (val_loss/len(valLoader)), \"BLEU Score: \", (bleu_sc/len(valLoader)))\n",
        "\n",
        "  return model, trainLosses, validLosses"
      ],
      "metadata": {
        "id": "FPRHO4kDcK3_"
      },
      "execution_count": null,
      "outputs": []
    },
    {
      "cell_type": "code",
      "source": [
        "model, train_loss, valid_loss = train_model(model, 10)"
      ],
      "metadata": {
        "id": "-_ac0amdlDKd"
      },
      "execution_count": null,
      "outputs": []
    },
    {
      "cell_type": "code",
      "source": [
        "bleu_sc = 0\n",
        "model.eval()\n",
        "\n",
        "with torch.no_grad():\n",
        "  for batch_idx, (eng_input_ids, eng_attention_mask, cyp_input_ids, cyp_attention_mask) in enumerate(testLoader):\n",
        "\n",
        "    eng_input_ids = eng_input_ids.to(device)\n",
        "    eng_attention_mask = eng_attention_mask.to(device, dtype=torch.bool)\n",
        "    cyp_input_ids = cyp_input_ids.to(device)\n",
        "    cyp_attention_mask = cyp_attention_mask.to(device, dtype=torch.bool)\n",
        "\n",
        "    logits = model(eng_input_ids.long(), eng_attention_mask, cyp_input_ids.long(), cyp_attention_mask)\n",
        "\n",
        "    bleu_sc = bleu_sc + bleu_score(logits, cyp_input_ids)\n",
        "\n",
        "print(\"BLEU Score on test set: \", (bleu_sc/len(testLoader)))"
      ],
      "metadata": {
        "id": "PSmFCtexMiBZ"
      },
      "execution_count": null,
      "outputs": []
    },
    {
      "cell_type": "code",
      "source": [
        "epochs = range(1,len(train_loss)+1)\n",
        "plt.plot(epochs, train_loss, 'g', label='Training loss')\n",
        "plt.plot(epochs, valid_loss, 'b', label='Validation loss')\n",
        "plt.title('Training and Validation loss')\n",
        "plt.xlabel('Epochs')\n",
        "plt.ylabel('Loss')\n",
        "plt.legend()\n",
        "plt.savefig('Loss', bbox_inches='tight')\n",
        "plt.close()\n",
        "#plt.show()"
      ],
      "metadata": {
        "id": "lGC878W5QYv0"
      },
      "execution_count": null,
      "outputs": []
    }
  ]
}